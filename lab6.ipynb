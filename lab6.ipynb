{
 "cells": [
  {
   "cell_type": "markdown",
   "id": "199b375d-5576-48e9-9ba2-4293019d9f0e",
   "metadata": {},
   "source": [
    "# Lab 6: Animation, Time Series, and Dynamic Scenes\n",
    "\n",
    "---"
   ]
  },
  {
   "cell_type": "markdown",
   "id": "ad8ea5c9-e744-4cf5-853f-13653c77b857",
   "metadata": {},
   "source": [
    "**Learning Outcomes**\n",
    "\n",
    "By completing this lab, students will be able to:\n",
    "- Animate 3D objects using time series data or frame-based logic.\n",
    "- Create and visualize 2D and 3D vector fields that evolve over time.\n",
    "- Apply and synchronize model transformations (translation, rotation, scaling) in animated scenes.\n",
    "- Update 3D scenes dynamically in response to simulation or user-defined data.\n",
    "\n",
    "---"
   ]
  },
  {
   "cell_type": "markdown",
   "id": "7cee2f3e-3ea6-45f5-b29a-e8fa52faa3c9",
   "metadata": {},
   "source": [
    "## Animation, Time Series, and Dynamic Scenes\n",
    "\n",
    "Animation in 3D graphics brings time into the spatial domain, allowing data and geometry to evolve interactively or sequentially. Whether visualizing simulations, motion, or time-series datasets, animation provides an intuitive way to understand dynamic processes.\n",
    "\n",
    "K3D allows animation through real-time updates of object attributes — such as positions, model matrices, colors, and vectors. Using Python loops or time-based data, users can simulate motion, apply transformations, or encode changing scalar values through color or shape.\n",
    "\n",
    "Time series animation often uses temporal data to drive visual changes (e.g., a rising temperature mapped to vertex color). Meanwhile, vector field animation can simulate wind, flow, or force direction. Together, these techniques allow the creation of immersive, responsive, and insightful 3D dynamic scenes.\n",
    "\n",
    "Animation in 3D graphics involves updating the properties of objects over time, such as position, rotation, scale, color, or shape. In this lab, we explore two primary forms of animation:\n",
    "- Frame-based animation — updates geometry frame by frame using loops (e.g., rotating an object).\n",
    "- Data-driven animation — maps changes in time-series or simulation data directly to 3D changes (e.g., a point cloud evolving with time).\n",
    "\n",
    "Vector fields are particularly useful in physics and scientific visualization. A 2D or 3D vector field assigns a direction and magnitude (a vector) to every point in space. When animated, they simulate flows, forces, or motion patterns.\n",
    "\n",
    "K3D allows real-time updates of object attributes such as positions, model_matrix, and color, enabling interactive dynamic scenes. \n",
    "\n",
    "---"
   ]
  },
  {
   "cell_type": "code",
   "execution_count": 1,
   "id": "f1fbf3f2-5333-4010-bbce-5ae7d574f58d",
   "metadata": {},
   "outputs": [
    {
     "name": "stdout",
     "output_type": "stream",
     "text": [
      "Requirement already satisfied: k3d in c:\\anaconda\\lib\\site-packages (2.16.1)\n",
      "Requirement already satisfied: ipywidgets<9.0.0,>=7.0.0 in c:\\anaconda\\lib\\site-packages (from k3d) (7.8.1)\n",
      "Requirement already satisfied: msgpack in c:\\anaconda\\lib\\site-packages (from k3d) (1.0.3)\n",
      "Requirement already satisfied: numpy in c:\\anaconda\\lib\\site-packages (from k3d) (1.26.4)\n",
      "Requirement already satisfied: traitlets in c:\\anaconda\\lib\\site-packages (from k3d) (5.14.3)\n",
      "Requirement already satisfied: traittypes in c:\\anaconda\\lib\\site-packages (from k3d) (0.2.1)\n",
      "Requirement already satisfied: comm>=0.1.3 in c:\\anaconda\\lib\\site-packages (from ipywidgets<9.0.0,>=7.0.0->k3d) (0.2.1)\n",
      "Requirement already satisfied: ipython-genutils~=0.2.0 in c:\\anaconda\\lib\\site-packages (from ipywidgets<9.0.0,>=7.0.0->k3d) (0.2.0)\n",
      "Requirement already satisfied: widgetsnbextension~=3.6.6 in c:\\anaconda\\lib\\site-packages (from ipywidgets<9.0.0,>=7.0.0->k3d) (3.6.6)\n",
      "Requirement already satisfied: ipython>=4.0.0 in c:\\anaconda\\lib\\site-packages (from ipywidgets<9.0.0,>=7.0.0->k3d) (8.27.0)\n",
      "Requirement already satisfied: jupyterlab-widgets<3,>=1.0.0 in c:\\anaconda\\lib\\site-packages (from ipywidgets<9.0.0,>=7.0.0->k3d) (1.0.0)\n",
      "Requirement already satisfied: decorator in c:\\anaconda\\lib\\site-packages (from ipython>=4.0.0->ipywidgets<9.0.0,>=7.0.0->k3d) (5.1.1)\n",
      "Requirement already satisfied: jedi>=0.16 in c:\\anaconda\\lib\\site-packages (from ipython>=4.0.0->ipywidgets<9.0.0,>=7.0.0->k3d) (0.19.1)\n",
      "Requirement already satisfied: matplotlib-inline in c:\\anaconda\\lib\\site-packages (from ipython>=4.0.0->ipywidgets<9.0.0,>=7.0.0->k3d) (0.1.6)\n",
      "Requirement already satisfied: prompt-toolkit<3.1.0,>=3.0.41 in c:\\anaconda\\lib\\site-packages (from ipython>=4.0.0->ipywidgets<9.0.0,>=7.0.0->k3d) (3.0.43)\n",
      "Requirement already satisfied: pygments>=2.4.0 in c:\\anaconda\\lib\\site-packages (from ipython>=4.0.0->ipywidgets<9.0.0,>=7.0.0->k3d) (2.15.1)\n",
      "Requirement already satisfied: stack-data in c:\\anaconda\\lib\\site-packages (from ipython>=4.0.0->ipywidgets<9.0.0,>=7.0.0->k3d) (0.2.0)\n",
      "Requirement already satisfied: colorama in c:\\anaconda\\lib\\site-packages (from ipython>=4.0.0->ipywidgets<9.0.0,>=7.0.0->k3d) (0.4.6)\n",
      "Requirement already satisfied: notebook>=4.4.1 in c:\\anaconda\\lib\\site-packages (from widgetsnbextension~=3.6.6->ipywidgets<9.0.0,>=7.0.0->k3d) (6.5.7)\n",
      "Requirement already satisfied: parso<0.9.0,>=0.8.3 in c:\\anaconda\\lib\\site-packages (from jedi>=0.16->ipython>=4.0.0->ipywidgets<9.0.0,>=7.0.0->k3d) (0.8.3)\n",
      "Requirement already satisfied: jinja2 in c:\\anaconda\\lib\\site-packages (from notebook>=4.4.1->widgetsnbextension~=3.6.6->ipywidgets<9.0.0,>=7.0.0->k3d) (3.1.4)\n",
      "Requirement already satisfied: tornado>=6.1 in c:\\anaconda\\lib\\site-packages (from notebook>=4.4.1->widgetsnbextension~=3.6.6->ipywidgets<9.0.0,>=7.0.0->k3d) (6.4.1)\n",
      "Requirement already satisfied: pyzmq>=17 in c:\\anaconda\\lib\\site-packages (from notebook>=4.4.1->widgetsnbextension~=3.6.6->ipywidgets<9.0.0,>=7.0.0->k3d) (25.1.2)\n",
      "Requirement already satisfied: argon2-cffi in c:\\anaconda\\lib\\site-packages (from notebook>=4.4.1->widgetsnbextension~=3.6.6->ipywidgets<9.0.0,>=7.0.0->k3d) (21.3.0)\n",
      "Requirement already satisfied: jupyter-core>=4.6.1 in c:\\anaconda\\lib\\site-packages (from notebook>=4.4.1->widgetsnbextension~=3.6.6->ipywidgets<9.0.0,>=7.0.0->k3d) (5.7.2)\n",
      "Requirement already satisfied: jupyter-client<8,>=5.3.4 in c:\\anaconda\\lib\\site-packages (from notebook>=4.4.1->widgetsnbextension~=3.6.6->ipywidgets<9.0.0,>=7.0.0->k3d) (7.4.9)\n",
      "Requirement already satisfied: nbformat in c:\\anaconda\\lib\\site-packages (from notebook>=4.4.1->widgetsnbextension~=3.6.6->ipywidgets<9.0.0,>=7.0.0->k3d) (5.10.4)\n",
      "Requirement already satisfied: nbconvert>=5 in c:\\anaconda\\lib\\site-packages (from notebook>=4.4.1->widgetsnbextension~=3.6.6->ipywidgets<9.0.0,>=7.0.0->k3d) (7.16.4)\n",
      "Requirement already satisfied: nest-asyncio>=1.5 in c:\\anaconda\\lib\\site-packages (from notebook>=4.4.1->widgetsnbextension~=3.6.6->ipywidgets<9.0.0,>=7.0.0->k3d) (1.6.0)\n",
      "Requirement already satisfied: ipykernel in c:\\anaconda\\lib\\site-packages (from notebook>=4.4.1->widgetsnbextension~=3.6.6->ipywidgets<9.0.0,>=7.0.0->k3d) (6.28.0)\n",
      "Requirement already satisfied: Send2Trash>=1.8.0 in c:\\anaconda\\lib\\site-packages (from notebook>=4.4.1->widgetsnbextension~=3.6.6->ipywidgets<9.0.0,>=7.0.0->k3d) (1.8.2)\n",
      "Requirement already satisfied: terminado>=0.8.3 in c:\\anaconda\\lib\\site-packages (from notebook>=4.4.1->widgetsnbextension~=3.6.6->ipywidgets<9.0.0,>=7.0.0->k3d) (0.17.1)\n",
      "Requirement already satisfied: prometheus-client in c:\\anaconda\\lib\\site-packages (from notebook>=4.4.1->widgetsnbextension~=3.6.6->ipywidgets<9.0.0,>=7.0.0->k3d) (0.14.1)\n",
      "Requirement already satisfied: nbclassic>=0.4.7 in c:\\anaconda\\lib\\site-packages (from notebook>=4.4.1->widgetsnbextension~=3.6.6->ipywidgets<9.0.0,>=7.0.0->k3d) (1.2.0)\n",
      "Requirement already satisfied: wcwidth in c:\\anaconda\\lib\\site-packages (from prompt-toolkit<3.1.0,>=3.0.41->ipython>=4.0.0->ipywidgets<9.0.0,>=7.0.0->k3d) (0.2.5)\n",
      "Requirement already satisfied: executing in c:\\anaconda\\lib\\site-packages (from stack-data->ipython>=4.0.0->ipywidgets<9.0.0,>=7.0.0->k3d) (0.8.3)\n",
      "Requirement already satisfied: asttokens in c:\\anaconda\\lib\\site-packages (from stack-data->ipython>=4.0.0->ipywidgets<9.0.0,>=7.0.0->k3d) (2.0.5)\n",
      "Requirement already satisfied: pure-eval in c:\\anaconda\\lib\\site-packages (from stack-data->ipython>=4.0.0->ipywidgets<9.0.0,>=7.0.0->k3d) (0.2.2)\n",
      "Requirement already satisfied: entrypoints in c:\\anaconda\\lib\\site-packages (from jupyter-client<8,>=5.3.4->notebook>=4.4.1->widgetsnbextension~=3.6.6->ipywidgets<9.0.0,>=7.0.0->k3d) (0.4)\n",
      "Requirement already satisfied: python-dateutil>=2.8.2 in c:\\anaconda\\lib\\site-packages (from jupyter-client<8,>=5.3.4->notebook>=4.4.1->widgetsnbextension~=3.6.6->ipywidgets<9.0.0,>=7.0.0->k3d) (2.9.0.post0)\n",
      "Requirement already satisfied: platformdirs>=2.5 in c:\\anaconda\\lib\\site-packages (from jupyter-core>=4.6.1->notebook>=4.4.1->widgetsnbextension~=3.6.6->ipywidgets<9.0.0,>=7.0.0->k3d) (3.10.0)\n",
      "Requirement already satisfied: pywin32>=300 in c:\\anaconda\\lib\\site-packages (from jupyter-core>=4.6.1->notebook>=4.4.1->widgetsnbextension~=3.6.6->ipywidgets<9.0.0,>=7.0.0->k3d) (305.1)\n",
      "Requirement already satisfied: notebook_shim>=0.2.3 in c:\\anaconda\\lib\\site-packages (from nbclassic>=0.4.7->notebook>=4.4.1->widgetsnbextension~=3.6.6->ipywidgets<9.0.0,>=7.0.0->k3d) (0.2.3)\n",
      "Requirement already satisfied: beautifulsoup4 in c:\\anaconda\\lib\\site-packages (from nbconvert>=5->notebook>=4.4.1->widgetsnbextension~=3.6.6->ipywidgets<9.0.0,>=7.0.0->k3d) (4.12.3)\n",
      "Requirement already satisfied: bleach!=5.0.0 in c:\\anaconda\\lib\\site-packages (from nbconvert>=5->notebook>=4.4.1->widgetsnbextension~=3.6.6->ipywidgets<9.0.0,>=7.0.0->k3d) (4.1.0)\n",
      "Requirement already satisfied: defusedxml in c:\\anaconda\\lib\\site-packages (from nbconvert>=5->notebook>=4.4.1->widgetsnbextension~=3.6.6->ipywidgets<9.0.0,>=7.0.0->k3d) (0.7.1)\n",
      "Requirement already satisfied: jupyterlab-pygments in c:\\anaconda\\lib\\site-packages (from nbconvert>=5->notebook>=4.4.1->widgetsnbextension~=3.6.6->ipywidgets<9.0.0,>=7.0.0->k3d) (0.1.2)\n",
      "Requirement already satisfied: markupsafe>=2.0 in c:\\anaconda\\lib\\site-packages (from nbconvert>=5->notebook>=4.4.1->widgetsnbextension~=3.6.6->ipywidgets<9.0.0,>=7.0.0->k3d) (2.1.3)\n",
      "Requirement already satisfied: mistune<4,>=2.0.3 in c:\\anaconda\\lib\\site-packages (from nbconvert>=5->notebook>=4.4.1->widgetsnbextension~=3.6.6->ipywidgets<9.0.0,>=7.0.0->k3d) (2.0.4)\n",
      "Requirement already satisfied: nbclient>=0.5.0 in c:\\anaconda\\lib\\site-packages (from nbconvert>=5->notebook>=4.4.1->widgetsnbextension~=3.6.6->ipywidgets<9.0.0,>=7.0.0->k3d) (0.8.0)\n",
      "Requirement already satisfied: packaging in c:\\anaconda\\lib\\site-packages (from nbconvert>=5->notebook>=4.4.1->widgetsnbextension~=3.6.6->ipywidgets<9.0.0,>=7.0.0->k3d) (24.1)\n",
      "Requirement already satisfied: pandocfilters>=1.4.1 in c:\\anaconda\\lib\\site-packages (from nbconvert>=5->notebook>=4.4.1->widgetsnbextension~=3.6.6->ipywidgets<9.0.0,>=7.0.0->k3d) (1.5.0)\n",
      "Requirement already satisfied: tinycss2 in c:\\anaconda\\lib\\site-packages (from nbconvert>=5->notebook>=4.4.1->widgetsnbextension~=3.6.6->ipywidgets<9.0.0,>=7.0.0->k3d) (1.2.1)\n",
      "Requirement already satisfied: fastjsonschema>=2.15 in c:\\anaconda\\lib\\site-packages (from nbformat->notebook>=4.4.1->widgetsnbextension~=3.6.6->ipywidgets<9.0.0,>=7.0.0->k3d) (2.16.2)\n",
      "Requirement already satisfied: jsonschema>=2.6 in c:\\anaconda\\lib\\site-packages (from nbformat->notebook>=4.4.1->widgetsnbextension~=3.6.6->ipywidgets<9.0.0,>=7.0.0->k3d) (4.23.0)\n",
      "Requirement already satisfied: pywinpty>=1.1.0 in c:\\anaconda\\lib\\site-packages (from terminado>=0.8.3->notebook>=4.4.1->widgetsnbextension~=3.6.6->ipywidgets<9.0.0,>=7.0.0->k3d) (2.0.10)\n",
      "Requirement already satisfied: argon2-cffi-bindings in c:\\anaconda\\lib\\site-packages (from argon2-cffi->notebook>=4.4.1->widgetsnbextension~=3.6.6->ipywidgets<9.0.0,>=7.0.0->k3d) (21.2.0)\n",
      "Requirement already satisfied: six in c:\\anaconda\\lib\\site-packages (from asttokens->stack-data->ipython>=4.0.0->ipywidgets<9.0.0,>=7.0.0->k3d) (1.16.0)\n",
      "Requirement already satisfied: debugpy>=1.6.5 in c:\\anaconda\\lib\\site-packages (from ipykernel->notebook>=4.4.1->widgetsnbextension~=3.6.6->ipywidgets<9.0.0,>=7.0.0->k3d) (1.6.7)\n",
      "Requirement already satisfied: psutil in c:\\anaconda\\lib\\site-packages (from ipykernel->notebook>=4.4.1->widgetsnbextension~=3.6.6->ipywidgets<9.0.0,>=7.0.0->k3d) (5.9.0)\n",
      "Requirement already satisfied: webencodings in c:\\anaconda\\lib\\site-packages (from bleach!=5.0.0->nbconvert>=5->notebook>=4.4.1->widgetsnbextension~=3.6.6->ipywidgets<9.0.0,>=7.0.0->k3d) (0.5.1)\n",
      "Requirement already satisfied: attrs>=22.2.0 in c:\\anaconda\\lib\\site-packages (from jsonschema>=2.6->nbformat->notebook>=4.4.1->widgetsnbextension~=3.6.6->ipywidgets<9.0.0,>=7.0.0->k3d) (23.1.0)\n",
      "Requirement already satisfied: jsonschema-specifications>=2023.03.6 in c:\\anaconda\\lib\\site-packages (from jsonschema>=2.6->nbformat->notebook>=4.4.1->widgetsnbextension~=3.6.6->ipywidgets<9.0.0,>=7.0.0->k3d) (2023.7.1)\n",
      "Requirement already satisfied: referencing>=0.28.4 in c:\\anaconda\\lib\\site-packages (from jsonschema>=2.6->nbformat->notebook>=4.4.1->widgetsnbextension~=3.6.6->ipywidgets<9.0.0,>=7.0.0->k3d) (0.30.2)\n",
      "Requirement already satisfied: rpds-py>=0.7.1 in c:\\anaconda\\lib\\site-packages (from jsonschema>=2.6->nbformat->notebook>=4.4.1->widgetsnbextension~=3.6.6->ipywidgets<9.0.0,>=7.0.0->k3d) (0.10.6)\n",
      "Requirement already satisfied: jupyter-server<3,>=1.8 in c:\\anaconda\\lib\\site-packages (from notebook_shim>=0.2.3->nbclassic>=0.4.7->notebook>=4.4.1->widgetsnbextension~=3.6.6->ipywidgets<9.0.0,>=7.0.0->k3d) (2.14.1)\n",
      "Requirement already satisfied: cffi>=1.0.1 in c:\\anaconda\\lib\\site-packages (from argon2-cffi-bindings->argon2-cffi->notebook>=4.4.1->widgetsnbextension~=3.6.6->ipywidgets<9.0.0,>=7.0.0->k3d) (1.17.1)\n",
      "Requirement already satisfied: soupsieve>1.2 in c:\\anaconda\\lib\\site-packages (from beautifulsoup4->nbconvert>=5->notebook>=4.4.1->widgetsnbextension~=3.6.6->ipywidgets<9.0.0,>=7.0.0->k3d) (2.5)\n",
      "Requirement already satisfied: pycparser in c:\\anaconda\\lib\\site-packages (from cffi>=1.0.1->argon2-cffi-bindings->argon2-cffi->notebook>=4.4.1->widgetsnbextension~=3.6.6->ipywidgets<9.0.0,>=7.0.0->k3d) (2.21)\n",
      "Requirement already satisfied: anyio>=3.1.0 in c:\\anaconda\\lib\\site-packages (from jupyter-server<3,>=1.8->notebook_shim>=0.2.3->nbclassic>=0.4.7->notebook>=4.4.1->widgetsnbextension~=3.6.6->ipywidgets<9.0.0,>=7.0.0->k3d) (4.2.0)\n",
      "Requirement already satisfied: jupyter-events>=0.9.0 in c:\\anaconda\\lib\\site-packages (from jupyter-server<3,>=1.8->notebook_shim>=0.2.3->nbclassic>=0.4.7->notebook>=4.4.1->widgetsnbextension~=3.6.6->ipywidgets<9.0.0,>=7.0.0->k3d) (0.10.0)\n",
      "Requirement already satisfied: jupyter-server-terminals>=0.4.4 in c:\\anaconda\\lib\\site-packages (from jupyter-server<3,>=1.8->notebook_shim>=0.2.3->nbclassic>=0.4.7->notebook>=4.4.1->widgetsnbextension~=3.6.6->ipywidgets<9.0.0,>=7.0.0->k3d) (0.4.4)\n",
      "Requirement already satisfied: overrides>=5.0 in c:\\anaconda\\lib\\site-packages (from jupyter-server<3,>=1.8->notebook_shim>=0.2.3->nbclassic>=0.4.7->notebook>=4.4.1->widgetsnbextension~=3.6.6->ipywidgets<9.0.0,>=7.0.0->k3d) (7.4.0)\n",
      "Requirement already satisfied: websocket-client>=1.7 in c:\\anaconda\\lib\\site-packages (from jupyter-server<3,>=1.8->notebook_shim>=0.2.3->nbclassic>=0.4.7->notebook>=4.4.1->widgetsnbextension~=3.6.6->ipywidgets<9.0.0,>=7.0.0->k3d) (1.8.0)\n",
      "Requirement already satisfied: idna>=2.8 in c:\\anaconda\\lib\\site-packages (from anyio>=3.1.0->jupyter-server<3,>=1.8->notebook_shim>=0.2.3->nbclassic>=0.4.7->notebook>=4.4.1->widgetsnbextension~=3.6.6->ipywidgets<9.0.0,>=7.0.0->k3d) (3.7)\n",
      "Requirement already satisfied: sniffio>=1.1 in c:\\anaconda\\lib\\site-packages (from anyio>=3.1.0->jupyter-server<3,>=1.8->notebook_shim>=0.2.3->nbclassic>=0.4.7->notebook>=4.4.1->widgetsnbextension~=3.6.6->ipywidgets<9.0.0,>=7.0.0->k3d) (1.3.0)\n",
      "Requirement already satisfied: python-json-logger>=2.0.4 in c:\\anaconda\\lib\\site-packages (from jupyter-events>=0.9.0->jupyter-server<3,>=1.8->notebook_shim>=0.2.3->nbclassic>=0.4.7->notebook>=4.4.1->widgetsnbextension~=3.6.6->ipywidgets<9.0.0,>=7.0.0->k3d) (2.0.7)\n",
      "Requirement already satisfied: pyyaml>=5.3 in c:\\anaconda\\lib\\site-packages (from jupyter-events>=0.9.0->jupyter-server<3,>=1.8->notebook_shim>=0.2.3->nbclassic>=0.4.7->notebook>=4.4.1->widgetsnbextension~=3.6.6->ipywidgets<9.0.0,>=7.0.0->k3d) (6.0.1)\n",
      "Requirement already satisfied: rfc3339-validator in c:\\anaconda\\lib\\site-packages (from jupyter-events>=0.9.0->jupyter-server<3,>=1.8->notebook_shim>=0.2.3->nbclassic>=0.4.7->notebook>=4.4.1->widgetsnbextension~=3.6.6->ipywidgets<9.0.0,>=7.0.0->k3d) (0.1.4)\n",
      "Requirement already satisfied: rfc3986-validator>=0.1.1 in c:\\anaconda\\lib\\site-packages (from jupyter-events>=0.9.0->jupyter-server<3,>=1.8->notebook_shim>=0.2.3->nbclassic>=0.4.7->notebook>=4.4.1->widgetsnbextension~=3.6.6->ipywidgets<9.0.0,>=7.0.0->k3d) (0.1.1)\n",
      "Requirement already satisfied: fqdn in c:\\anaconda\\lib\\site-packages (from jsonschema[format-nongpl]>=4.18.0->jupyter-events>=0.9.0->jupyter-server<3,>=1.8->notebook_shim>=0.2.3->nbclassic>=0.4.7->notebook>=4.4.1->widgetsnbextension~=3.6.6->ipywidgets<9.0.0,>=7.0.0->k3d) (1.5.1)\n",
      "Requirement already satisfied: isoduration in c:\\anaconda\\lib\\site-packages (from jsonschema[format-nongpl]>=4.18.0->jupyter-events>=0.9.0->jupyter-server<3,>=1.8->notebook_shim>=0.2.3->nbclassic>=0.4.7->notebook>=4.4.1->widgetsnbextension~=3.6.6->ipywidgets<9.0.0,>=7.0.0->k3d) (20.11.0)\n",
      "Requirement already satisfied: jsonpointer>1.13 in c:\\anaconda\\lib\\site-packages (from jsonschema[format-nongpl]>=4.18.0->jupyter-events>=0.9.0->jupyter-server<3,>=1.8->notebook_shim>=0.2.3->nbclassic>=0.4.7->notebook>=4.4.1->widgetsnbextension~=3.6.6->ipywidgets<9.0.0,>=7.0.0->k3d) (2.1)\n",
      "Requirement already satisfied: uri-template in c:\\anaconda\\lib\\site-packages (from jsonschema[format-nongpl]>=4.18.0->jupyter-events>=0.9.0->jupyter-server<3,>=1.8->notebook_shim>=0.2.3->nbclassic>=0.4.7->notebook>=4.4.1->widgetsnbextension~=3.6.6->ipywidgets<9.0.0,>=7.0.0->k3d) (1.3.0)\n",
      "Requirement already satisfied: webcolors>=24.6.0 in c:\\anaconda\\lib\\site-packages (from jsonschema[format-nongpl]>=4.18.0->jupyter-events>=0.9.0->jupyter-server<3,>=1.8->notebook_shim>=0.2.3->nbclassic>=0.4.7->notebook>=4.4.1->widgetsnbextension~=3.6.6->ipywidgets<9.0.0,>=7.0.0->k3d) (24.11.1)\n",
      "Requirement already satisfied: arrow>=0.15.0 in c:\\anaconda\\lib\\site-packages (from isoduration->jsonschema[format-nongpl]>=4.18.0->jupyter-events>=0.9.0->jupyter-server<3,>=1.8->notebook_shim>=0.2.3->nbclassic>=0.4.7->notebook>=4.4.1->widgetsnbextension~=3.6.6->ipywidgets<9.0.0,>=7.0.0->k3d) (1.2.3)\n"
     ]
    }
   ],
   "source": [
    "!pip install k3d"
   ]
  },
  {
   "cell_type": "code",
   "execution_count": 2,
   "id": "98e10db4-4a53-4ff0-ad35-9a18a996d016",
   "metadata": {},
   "outputs": [],
   "source": [
    "import k3d\n",
    "import numpy as np\n",
    "import time\n",
    "import math"
   ]
  },
  {
   "cell_type": "markdown",
   "id": "acbb85e1-d00a-4b58-9f5c-089d5d59a31e",
   "metadata": {},
   "source": [
    "---\n",
    "\n",
    "### Example 1: Animate a Moving Point Along a Circular Path\n",
    "\n",
    "The following example demonstrates basic object animation using position updates over time."
   ]
  },
  {
   "cell_type": "code",
   "execution_count": 4,
   "id": "43499b99-5465-4194-bcc6-82af07a94cbc",
   "metadata": {},
   "outputs": [
    {
     "data": {
      "application/vnd.jupyter.widget-view+json": {
       "model_id": "bccdcff243724d0c9a32fe40514979ee",
       "version_major": 2,
       "version_minor": 0
      },
      "text/plain": [
       "Output()"
      ]
     },
     "metadata": {},
     "output_type": "display_data"
    }
   ],
   "source": [
    "plot = k3d.plot()\n",
    "\n",
    "# Precompute a circular trajectory\n",
    "N = 100\n",
    "theta = np.linspace(0, 2 * np.pi, N)\n",
    "trajectory = np.stack((np.cos(theta), np.sin(theta), np.zeros_like(theta)), axis=1)\n",
    "\n",
    "# Create the moving point\n",
    "point = k3d.points([[1, 0, 0]], point_size=0.2, color=0xff0000)\n",
    "plot += point\n",
    "plot.display()\n",
    "\n",
    "# Animate the point along the path\n",
    "for pos in trajectory:\n",
    "    point.positions = np.array([pos], dtype=np.float32)\n",
    "    time.sleep(0.03)\n"
   ]
  },
  {
   "cell_type": "markdown",
   "id": "6bb8304b-7810-4643-b0cd-799760fb7a18",
   "metadata": {},
   "source": [
    "---\n",
    "\n",
    "### Example 2: Animate a 2D Vector Field\n",
    "\n",
    "This example shows how vector fields can evolve over time using trigonometric direction updates."
   ]
  },
  {
   "cell_type": "code",
   "execution_count": 5,
   "id": "5f7b5167-5bf4-4b79-acbd-f267d2cbd9a8",
   "metadata": {},
   "outputs": [
    {
     "data": {
      "application/vnd.jupyter.widget-view+json": {
       "model_id": "c0a6f89597a54a50bf9b04f0ff0c6423",
       "version_major": 2,
       "version_minor": 0
      },
      "text/plain": [
       "Output()"
      ]
     },
     "metadata": {},
     "output_type": "display_data"
    }
   ],
   "source": [
    "plot = k3d.plot()\n",
    "\n",
    "# Generate grid of positions\n",
    "x, y = np.meshgrid(np.linspace(-1, 1, 10), np.linspace(-1, 1, 10))\n",
    "origins = np.stack((x.ravel(), y.ravel(), np.zeros_like(x.ravel())), axis=1)\n",
    "\n",
    "# Create initial directions\n",
    "directions = np.stack((np.ones_like(x).ravel(), np.zeros_like(y).ravel(), np.zeros_like(x).ravel()), axis=1)\n",
    "\n",
    "vectors = k3d.vectors(origins.astype(np.float32), directions.astype(np.float32), color=0x00ff00, line_width=0.01)\n",
    "plot += vectors\n",
    "plot.display()\n",
    "\n",
    "# Animate: rotate all arrows\n",
    "for t in range(60):\n",
    "    angle = t * 0.1\n",
    "    dx = np.cos(angle)\n",
    "    dy = np.sin(angle)\n",
    "    directions = np.stack((dx * np.ones_like(x).ravel(), dy * np.ones_like(y).ravel(), np.zeros_like(x).ravel()), axis=1)\n",
    "    vectors.vectors = directions.astype(np.float32)\n",
    "    time.sleep(0.05)\n"
   ]
  },
  {
   "cell_type": "markdown",
   "id": "8dea69eb-c6be-4b96-bf39-9fb9c8d7b34f",
   "metadata": {},
   "source": [
    "---\n",
    "\n",
    "### Example 3: Animate Transformation Using Model Matrix (Rotation)\n",
    "\n",
    "This example applies animated transformation using 4×4 matrices (affine transformations)."
   ]
  },
  {
   "cell_type": "code",
   "execution_count": 6,
   "id": "e3c607e3-7569-474b-a42d-7c42fea8a7ab",
   "metadata": {},
   "outputs": [
    {
     "data": {
      "application/vnd.jupyter.widget-view+json": {
       "model_id": "960c73f860ce4ae487ce745739de0696",
       "version_major": 2,
       "version_minor": 0
      },
      "text/plain": [
       "Output()"
      ]
     },
     "metadata": {},
     "output_type": "display_data"
    }
   ],
   "source": [
    "# Initial point\n",
    "point = k3d.points([[1, 0, 0]], point_size=0.3, color=0x0077ff)\n",
    "plot = k3d.plot()\n",
    "plot += point\n",
    "plot.display()\n",
    "\n",
    "# Build rotating model matrices\n",
    "for t in range(100):\n",
    "    angle = 2 * math.pi * (t / 100)\n",
    "    matrix = np.array([\n",
    "        [math.cos(angle), -math.sin(angle), 0.0, 0.0],\n",
    "        [math.sin(angle),  math.cos(angle), 0.0, 0.0],\n",
    "        [0.0,              0.0,             1.0, 0.0],\n",
    "        [0.0,              0.0,             0.0, 1.0]\n",
    "    ], dtype=np.float32)\n",
    "    \n",
    "    point.model_matrix = matrix\n",
    "    time.sleep(0.05)"
   ]
  },
  {
   "cell_type": "markdown",
   "id": "518d846d-9f39-492e-b891-fb994c094d3a",
   "metadata": {},
   "source": [
    "---\n",
    "\n",
    "### Example 4: Animate a Scalar Field as Surface Waves\n",
    "\n",
    "This example shows how animated surface data can simulate physical phenomena like waves."
   ]
  },
  {
   "cell_type": "code",
   "execution_count": 8,
   "id": "3cd7cc9e-b736-48d4-99fe-8483a8c9ffe9",
   "metadata": {},
   "outputs": [
    {
     "data": {
      "application/vnd.jupyter.widget-view+json": {
       "model_id": "ff74c8a4f04c4a87ac71ffa222c8b86e",
       "version_major": 2,
       "version_minor": 0
      },
      "text/plain": [
       "Output()"
      ]
     },
     "metadata": {},
     "output_type": "display_data"
    }
   ],
   "source": [
    "plot = k3d.plot()\n",
    "\n",
    "# Define spatial grid\n",
    "x, y = np.meshgrid(np.linspace(-3, 3, 40), np.linspace(-3, 3, 40))\n",
    "res = x.shape[0]\n",
    "faces = []\n",
    "for i in range(res - 1):\n",
    "    for j in range(res - 1):\n",
    "        idx = i * res + j\n",
    "        faces.append([idx, idx + 1, idx + res])\n",
    "        faces.append([idx + 1, idx + res + 1, idx + res])\n",
    "faces = np.array(faces, dtype=np.uint32)\n",
    "\n",
    "# Initial Z surface\n",
    "z = np.sin(x**2 + y**2)\n",
    "vertices = np.stack([x.ravel(), y.ravel(), z.ravel()], axis=1)\n",
    "mesh = k3d.mesh(vertices.astype(np.float32), indices=faces)\n",
    "plot += mesh\n",
    "plot.display()\n",
    "\n",
    "# Animate: wave propagation\n",
    "for t in range(80):\n",
    "    z = np.sin(x**2 + y**2 - t * 0.2)\n",
    "    vertices = np.stack([x.ravel(), y.ravel(), z.ravel()], axis=1)\n",
    "    mesh.vertices = vertices.astype(np.float32)\n",
    "    time.sleep(0.05)\n"
   ]
  },
  {
   "cell_type": "markdown",
   "id": "ed1fbe89-9857-4530-b2db-80a779376c85",
   "metadata": {},
   "source": [
    "---\n",
    "\n",
    "### Example 5: Animate Object Along Predefined Path (With Trail)\n",
    "\n",
    "This example combines path-following with visual trail for storytelling or data tracing.\n"
   ]
  },
  {
   "cell_type": "code",
   "execution_count": 9,
   "id": "b1a744de-9d46-4b69-987a-55a981576f90",
   "metadata": {},
   "outputs": [
    {
     "name": "stderr",
     "output_type": "stream",
     "text": [
      "C:\\Anaconda\\Lib\\site-packages\\traittypes\\traittypes.py:97: UserWarning: Given trait value dtype \"float64\" does not match required type \"float32\". A coerced copy has been created.\n",
      "  warnings.warn(\n"
     ]
    },
    {
     "data": {
      "application/vnd.jupyter.widget-view+json": {
       "model_id": "e850de1743bb41839954d5fe00c428a3",
       "version_major": 2,
       "version_minor": 0
      },
      "text/plain": [
       "Output()"
      ]
     },
     "metadata": {},
     "output_type": "display_data"
    }
   ],
   "source": [
    "plot = k3d.plot()\n",
    "\n",
    "# Predefined path (spiral)\n",
    "t_vals = np.linspace(0, 4 * np.pi, 100)\n",
    "x = np.cos(t_vals)\n",
    "y = np.sin(t_vals)\n",
    "z = t_vals / (2 * np.pi)\n",
    "\n",
    "path = np.stack((x, y, z), axis=1)\n",
    "trail = k3d.line(path, width=0.02, color=0x999999)\n",
    "\n",
    "point = k3d.points([[x[0], y[0], z[0]]], point_size=0.2, color=0xff0000)\n",
    "\n",
    "plot += trail\n",
    "plot += point\n",
    "plot.display()\n",
    "\n",
    "# Animate the point along the spiral\n",
    "for i in range(len(path)):\n",
    "    point.positions = np.array([path[i]], dtype=np.float32)\n",
    "    time.sleep(0.04)\n"
   ]
  },
  {
   "cell_type": "markdown",
   "id": "dbb7e23f-2e59-43bc-816f-b155152bc0d4",
   "metadata": {},
   "source": [
    "---\n",
    "\n",
    "### Example 6: Animate Time Series with Changing Point Colors\n",
    "\n",
    "This example visualizes a time-dependent signal or measurement (like temperature, activity, or pressure) via color."
   ]
  },
  {
   "cell_type": "code",
   "execution_count": 31,
   "id": "be457680-d2ab-47aa-b9a8-bc3f440c90ea",
   "metadata": {},
   "outputs": [
    {
     "data": {
      "application/vnd.jupyter.widget-view+json": {
       "model_id": "ed37a9d62f4a4682abe745defc461fc7",
       "version_major": 2,
       "version_minor": 0
      },
      "text/plain": [
       "Output()"
      ]
     },
     "metadata": {},
     "output_type": "display_data"
    }
   ],
   "source": [
    "plot = k3d.plot()\n",
    "\n",
    "# Create points with fixed positions\n",
    "positions = np.random.uniform(-1, 1, (100, 3)).astype(np.float32)\n",
    "points = k3d.points(positions, point_size=0.15)\n",
    "plot += points\n",
    "plot.display()\n",
    "\n",
    "# Animate color change based on simulated data values\n",
    "for t in range(80):\n",
    "    values = np.sin(np.linspace(0, 2*np.pi, 100) + t * 0.2)\n",
    "    norm = ((values - values.min()) / values.ptp()) * 0xFFFFFF\n",
    "    points.colors = norm.astype(np.uint32)\n",
    "    time.sleep(0.05)\n"
   ]
  },
  {
   "cell_type": "markdown",
   "id": "b15e6867-382b-46ea-8b8a-7aafce2fc794",
   "metadata": {},
   "source": [
    "--- \n",
    "\n",
    "# Tasks\n",
    "\n",
    "---"
   ]
  },
  {
   "cell_type": "markdown",
   "id": "0a9d13e0-402b-4a6b-b822-d59e753a3764",
   "metadata": {},
   "source": [
    "## Task 1: Animate a 3D Object Along a Custom Path\n",
    "\n",
    "Move a 3D object (e.g., a sphere or cube) along a non-circular path such as a figure-eight or zig-zag, and visualize its movement.\n",
    "Steps:\n",
    "- Define the path as a series of (x, y, z) points.\n",
    "- Use k3d.points() to represent the object.\n",
    "- Update its position in a loop using .positions.\n",
    "\n",
    "An outcome of this should be a moving object that traces a recognizable path in 3D space.\n",
    "\n",
    "---"
   ]
  },
  {
   "cell_type": "code",
   "execution_count": 10,
   "id": "64c4f3ec-19ef-4ac1-b2e3-ab30cf6cc829",
   "metadata": {},
   "outputs": [
    {
     "data": {
      "application/vnd.jupyter.widget-view+json": {
       "model_id": "6e3e9772570f4482a5c6909f462345d6",
       "version_major": 2,
       "version_minor": 0
      },
      "text/plain": [
       "Output()"
      ]
     },
     "metadata": {},
     "output_type": "display_data"
    }
   ],
   "source": [
    "## Write your ode here\n",
    "import k3d\n",
    "import numpy as np\n",
    "import time\n",
    "\n",
    "plot = k3d.plot()\n",
    "\n",
    "N = 150\n",
    "t = np.linspace(0, 2 * np.pi, N)\n",
    "x = np.sin(t)\n",
    "y = np.sin(t) * np.cos(t)\n",
    "z = 0.5 * np.cos(2 * t) \n",
    "\n",
    "path = np.stack((x, y, z), axis=1)\n",
    "\n",
    "trail = k3d.line(path, width=0.02, color=0x888888)\n",
    "plot += trail\n",
    "\n",
    "point = k3d.points([path[0]], point_size=0.3, color=0xff6600)\n",
    "plot += point\n",
    "\n",
    "plot.display()\n",
    "\n",
    "for pos in path:\n",
    "    point.positions = np.array([pos], dtype=np.float32)\n",
    "    time.sleep(0.03)\n"
   ]
  },
  {
   "cell_type": "markdown",
   "id": "03ed0d22-63db-47d5-a8f6-19f40fad1d08",
   "metadata": {},
   "source": [
    "## Task 2: Simulate a Wind Field Using Animated 3D Vectors\n",
    "\n",
    "Create a 3D grid of vectors and animate their directions to simulate wind or flow.\n",
    "Steps:\n",
    "- Define a grid of vector origins.\n",
    "- Animate vector directions over time using sine or cosine functions.\n",
    "- Use k3d.vectors() and update .vectors dynamically.\n",
    "\n",
    "An outcome of this should be an evolving vector field that shows dynamic direction changes.\n",
    "\n",
    "---"
   ]
  },
  {
   "cell_type": "code",
   "execution_count": 11,
   "id": "2f894e76-e59c-44d3-9a97-74296eff9564",
   "metadata": {},
   "outputs": [
    {
     "data": {
      "application/vnd.jupyter.widget-view+json": {
       "model_id": "6e7b400c558a4a989a3d6cd6ece860b7",
       "version_major": 2,
       "version_minor": 0
      },
      "text/plain": [
       "Output()"
      ]
     },
     "metadata": {},
     "output_type": "display_data"
    }
   ],
   "source": [
    "## Write your ode here\n",
    "import k3d\n",
    "import numpy as np\n",
    "import time\n",
    "\n",
    "L, H, W = 8, 8, 8  \n",
    "\n",
    "x = np.linspace(-1, 1, W)\n",
    "y = np.linspace(-1, 1, H)\n",
    "z = np.linspace(-1, 1, L)\n",
    "xx, yy, zz = np.meshgrid(x, y, z, indexing='ij')\n",
    "origins = np.stack((xx, yy, zz), axis=-1).reshape(-1, 3)\n",
    "\n",
    "directions = np.zeros_like(origins)\n",
    "directions[:, 0] = 1.0\n",
    "\n",
    "vectors = k3d.vectors(origins.astype(np.float32), directions.astype(np.float32), color=0x3399ff, head_size=1.5, scale=0.3, line_width=0.02)\n",
    "plot = k3d.plot()\n",
    "plot += vectors\n",
    "plot.display()\n",
    "\n",
    "for t in range(120):\n",
    "    dx = np.cos(zz.ravel() + t * 0.1)\n",
    "    dy = np.sin(xx.ravel() + t * 0.13)\n",
    "    dz = np.cos(yy.ravel() + t * 0.17)\n",
    "    new_directions = np.stack((dx, dy, dz), axis=1)\n",
    "    new_directions /= np.linalg.norm(new_directions, axis=1, keepdims=True)\n",
    "    vectors.vectors = new_directions.astype(np.float32)\n",
    "    time.sleep(0.05)\n"
   ]
  },
  {
   "cell_type": "markdown",
   "id": "c8d623b0-9a3a-453a-8bd5-7d02bf36f5a8",
   "metadata": {},
   "source": [
    "## Task 3: Animate Temperature Across a Surface Mesh\n",
    "\n",
    "Create a surface (e.g., terrain or sine wave), and simulate changing \"temperature\" by animating vertex colors.\n",
    "Steps:\n",
    "- Generate a 2D surface mesh.\n",
    "- Create a temperature wave that evolves over time (sinusoidal or noisy).\n",
    "- Convert temperature values to colors and update .colors.\n",
    "\n",
    "An outcome of this task is a surface mesh with a flowing heat map effect.\n",
    "\n",
    "---"
   ]
  },
  {
   "cell_type": "code",
   "execution_count": 13,
   "id": "c1c5caaa-4185-43ce-a1a1-d95acf36f02e",
   "metadata": {},
   "outputs": [
    {
     "data": {
      "application/vnd.jupyter.widget-view+json": {
       "model_id": "61a96049607b4a66a78e232cbe6a10b2",
       "version_major": 2,
       "version_minor": 0
      },
      "text/plain": [
       "Output()"
      ]
     },
     "metadata": {},
     "output_type": "display_data"
    }
   ],
   "source": [
    "## Write your ode here\n",
    "import k3d\n",
    "import numpy as np\n",
    "import time\n",
    "\n",
    "res = 40\n",
    "x, y = np.meshgrid(np.linspace(-3, 3, res), np.linspace(-3, 3, res))\n",
    "z = np.sin(x**2 + y**2)\n",
    "vertices = np.stack([x.ravel(), y.ravel(), z.ravel()], axis=1)\n",
    "\n",
    "faces = []\n",
    "for i in range(res - 1):\n",
    "    for j in range(res - 1):\n",
    "        idx = i * res + j\n",
    "        faces.append([idx, idx + 1, idx + res])\n",
    "        faces.append([idx + 1, idx + res + 1, idx + res])\n",
    "faces = np.array(faces, dtype=np.uint32)\n",
    "\n",
    "def temperature_wave(t):\n",
    "    return np.sin(x**2 + y**2 - t * 0.2)\n",
    "\n",
    "def temperature_to_color(temp):\n",
    "    norm_temp = (temp - temp.min()) / (temp.max() - temp.min())\n",
    "    r = (norm_temp * 255).astype(np.uint8)\n",
    "    g = np.zeros_like(r)\n",
    "    b = ((1 - norm_temp) * 255).astype(np.uint8)\n",
    "    colors = (r << 16) + (g << 8) + b\n",
    "    return colors.astype(np.uint32)\n",
    "\n",
    "\n",
    "plot = k3d.plot()\n",
    "mesh = k3d.mesh(vertices.astype(np.float32), indices=faces)\n",
    "plot += mesh\n",
    "plot.display()\n",
    "\n",
    "for t in range(80):\n",
    "    temp = temperature_wave(t)\n",
    "    colors = temperature_to_color(temp)\n",
    "    mesh.colors = colors.ravel().astype(np.uint32)\n",
    "    time.sleep(0.05)\n"
   ]
  },
  {
   "cell_type": "markdown",
   "id": "ca9666bd-0241-4791-b3a8-0d7afaee73e0",
   "metadata": {},
   "source": [
    "## Task 4: Build a 3D Time Series Dashboard\n",
    "\n",
    "Display changing data values using position, size, or color of bars or points — like an animated chart.\n",
    "Steps:\n",
    "- Create vertical lines or points to represent data values.\n",
    "- Use a loop to simulate new data over time.\n",
    "- Animate the scene using .positions, .colors, or .model_matrix.\n",
    "\n",
    "Outcome is a 3D dashboard that visually tracks change — ideal for performance metrics or scientific data playback.\n",
    "\n",
    "---"
   ]
  },
  {
   "cell_type": "code",
   "execution_count": null,
   "id": "b5e9efad-b5c4-4395-94ef-204eae0652f3",
   "metadata": {},
   "outputs": [
    {
     "data": {
      "application/vnd.jupyter.widget-view+json": {
       "model_id": "c6d0f0f19436492f982a53b35a28f735",
       "version_major": 2,
       "version_minor": 0
      },
      "text/plain": [
       "Output()"
      ]
     },
     "metadata": {},
     "output_type": "display_data"
    }
   ],
   "source": [
    "import k3d\n",
    "import numpy as np\n",
    "import time\n",
    "from matplotlib.colors import Normalize\n",
    "\n",
    "plot = k3d.plot(grid_visible=True, axes_helper=0)\n",
    "plot.camera = [5, 5, 5, 0, 0, 0, 0, 0, 1]\n",
    "\n",
    "grid_size = 5\n",
    "x_pos = np.linspace(-2, 2, grid_size)\n",
    "y_pos = np.linspace(-2, 2, grid_size)\n",
    "X, Y = np.meshgrid(x_pos, y_pos)\n",
    "\n",
    "origins = np.stack([X.ravel(), Y.ravel(), np.zeros(grid_size**2)], axis=1).astype(np.float32)\n",
    "\n",
    "heights = np.random.uniform(0.5, 2.5, size=grid_size**2)\n",
    "directions = np.stack([np.zeros(grid_size**2), np.zeros(grid_size**2), heights], axis=1).astype(np.float32)\n",
    "\n",
    "bars = k3d.vectors(\n",
    "    origins=origins,\n",
    "    vectors=directions,\n",
    "    attribute=heights,\n",
    "    color_map=k3d.colormaps.matplotlib_color_maps.Viridis,\n",
    "    color_range=[0, 3],\n",
    "    line_width=0.1,\n",
    "    head_size=1.5\n",
    ")\n",
    "plot += bars\n",
    "\n",
    "plot += k3d.text2d(\"3D Dashboard\", position=[0.05, 0], size=1.5, color=0x000000)\n",
    "color_legend = k3d.text2d(\"Value Scale\\n0.0 (low) → 3.0 (high)\", position=[0.6, 0.8], size=1.0, color=0x000000)\n",
    "plot += color_legend\n",
    "\n",
    "plot.display()\n",
    "\n",
    "for t in range(100):\n",
    "    phase = t * 0.1\n",
    "    heights = 1.5 * np.sin(phase + X.ravel()*0.5 + Y.ravel()*0.3) + 1.5\n",
    "    heights += 0.3 * np.random.randn(*heights.shape)\n",
    "    heights = np.clip(heights, 0, 3)  \n",
    "\n",
    "    directions[:, 2] = heights\n",
    "    bars.vectors = directions.astype(np.float32)\n",
    "    bars.attribute = heights\n",
    "\n",
    "    current_max = f\"Current Max: {heights.max():.2f}\"\n",
    "    color_legend.text = f\"Value Scale\\n0.0 (low) → 3.0 (high)\\n{current_max}\"\n",
    "\n",
    "    time.sleep(0.1)\n"
   ]
  },
  {
   "cell_type": "code",
   "execution_count": null,
   "id": "b92d1817",
   "metadata": {},
   "outputs": [],
   "source": []
  }
 ],
 "metadata": {
  "kernelspec": {
   "display_name": "Python 3 (ipykernel)",
   "language": "python",
   "name": "python3"
  },
  "language_info": {
   "codemirror_mode": {
    "name": "ipython",
    "version": 3
   },
   "file_extension": ".py",
   "mimetype": "text/x-python",
   "name": "python",
   "nbconvert_exporter": "python",
   "pygments_lexer": "ipython3",
   "version": "3.12.3"
  }
 },
 "nbformat": 4,
 "nbformat_minor": 5
}
